{
 "cells": [
  {
   "cell_type": "markdown",
   "metadata": {},
   "source": [
    "正向传播用数组表示"
   ]
  },
  {
   "cell_type": "code",
   "execution_count": 40,
   "metadata": {},
   "outputs": [
    {
     "name": "stdout",
     "output_type": "stream",
     "text": [
      "[-43   9 103]\n",
      "[2.11513104e-19 9.99876605e-01 1.00000000e+00]\n",
      "[1 0 1]\n",
      "[[ 4.33325107]\n",
      " [ 2.33333333]\n",
      " [-2.33333333]]\n"
     ]
    }
   ],
   "source": [
    "#得到z\n",
    "import numpy as np\n",
    "x = np.array([[-11,2,3],[-7,0,6],[7,0,9]])\n",
    "w = np.array([[4],[6],[6]])\n",
    "b = 1\n",
    "z = np.dot(w.transpose(),x)+b\n",
    "z = z[0]\n",
    "print(z)\n",
    "\n",
    "#得到a\n",
    "a = 1/(1+np.exp(z*(-1)))\n",
    "print(a)\n",
    "\n",
    "#设置y\n",
    "y = np.array([1,0,1])\n",
    "print(y)\n",
    "#求J\n",
    "# h = sum(a-y)/3\n",
    "# print(sum)\n",
    "\n",
    "#求dz = [a^1-y^1......]\n",
    "dz = (a-y).reshape(3,1)\n",
    "dw = np.dot(x,dz)/3\n",
    "print(dw)\n"
   ]
  }
 ],
 "metadata": {
  "kernelspec": {
   "display_name": "Python 3.8.13 ('pytorch')",
   "language": "python",
   "name": "python3"
  },
  "language_info": {
   "codemirror_mode": {
    "name": "ipython",
    "version": 3
   },
   "file_extension": ".py",
   "mimetype": "text/x-python",
   "name": "python",
   "nbconvert_exporter": "python",
   "pygments_lexer": "ipython3",
   "version": "3.8.13"
  },
  "orig_nbformat": 4,
  "vscode": {
   "interpreter": {
    "hash": "8b3a5dcf2002995c777578b6a17ca44c254c73de0e40df451694dc83b650b489"
   }
  }
 },
 "nbformat": 4,
 "nbformat_minor": 2
}
