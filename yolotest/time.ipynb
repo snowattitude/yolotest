{
 "cells": [
  {
   "cell_type": "markdown",
   "metadata": {},
   "source": [
    "获取当前时间"
   ]
  },
  {
   "cell_type": "code",
   "execution_count": null,
   "metadata": {},
   "outputs": [],
   "source": [
    "import time\n",
    "tic = time.time()              # 记录当前时间,乘以1000才是ms"
   ]
  }
 ],
 "metadata": {
  "kernelspec": {
   "display_name": "Python 3.9.13 64-bit (system)",
   "language": "python",
   "name": "python3"
  },
  "language_info": {
   "name": "python",
   "version": "3.9.13"
  },
  "orig_nbformat": 4,
  "vscode": {
   "interpreter": {
    "hash": "54f365b7306695caea8536f3e643a18bd1efdc95abf2ae56e6c2ef93599fa810"
   }
  }
 },
 "nbformat": 4,
 "nbformat_minor": 2
}
