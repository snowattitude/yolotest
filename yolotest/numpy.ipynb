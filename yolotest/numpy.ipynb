{
 "cells": [
  {
   "cell_type": "markdown",
   "metadata": {},
   "source": [
    "numpy的dot的使用（一维数组计算的就是对应数字乘积的和，二维数组就是矩阵相乘）"
   ]
  },
  {
   "cell_type": "code",
   "execution_count": null,
   "metadata": {},
   "outputs": [],
   "source": [
    "import numpy as np\n",
    "a = np.random.rand(1000000)    # 输出0—1之间长度为n的一维数组\n",
    "b = np.random.rand(1000000)\n",
    "c = np.dot(a,b)                # a^T*b"
   ]
  }
 ],
 "metadata": {
  "kernelspec": {
   "display_name": "Python 3.9.13 64-bit (system)",
   "language": "python",
   "name": "python3"
  },
  "language_info": {
   "name": "python",
   "version": "3.9.13"
  },
  "orig_nbformat": 4,
  "vscode": {
   "interpreter": {
    "hash": "54f365b7306695caea8536f3e643a18bd1efdc95abf2ae56e6c2ef93599fa810"
   }
  }
 },
 "nbformat": 4,
 "nbformat_minor": 2
}
