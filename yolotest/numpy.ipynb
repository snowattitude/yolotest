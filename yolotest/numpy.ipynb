{
 "cells": [
  {
   "cell_type": "markdown",
   "metadata": {},
   "source": [
    "numpy的dot的使用（一维数组计算的就是对应数字乘积的和，二维数组就是矩阵相乘）"
   ]
  },
  {
   "cell_type": "code",
   "execution_count": null,
   "metadata": {},
   "outputs": [],
   "source": [
    "import numpy as np\n",
    "a = np.random.rand(1000000)    # 输出0—1之间长度为n的一维数组\n",
    "b = np.random.rand(1000000)\n",
    "c = np.dot(a,b)                # a^T*b"
   ]
  },
  {
   "cell_type": "markdown",
   "metadata": {},
   "source": [
    "所有数作为e的指数， exp\n",
    "所有数作为e的对数， log\n",
    "绝对值，           abs\n",
    "将所有小于n的都替换为n"
   ]
  },
  {
   "cell_type": "code",
   "execution_count": null,
   "metadata": {},
   "outputs": [],
   "source": [
    "import numpy as np\n",
    "a = np.random.rand(1000000)  \n",
    "b = np.exp(a)\n",
    "c = np.log(a)\n",
    "d = np.abs(a)\n",
    "e = np.maximum(a,0.5)"
   ]
  },
  {
   "cell_type": "markdown",
   "metadata": {},
   "source": [
    "转置T,transport不能用于一维(行，列)数组，需要使用reshape"
   ]
  },
  {
   "cell_type": "code",
   "execution_count": 6,
   "metadata": {},
   "outputs": [
    {
     "name": "stdout",
     "output_type": "stream",
     "text": [
      "[56.   0.   4.4 68. ]\n",
      "[56.   0.   4.4 68. ]\n",
      "[[-0.91792827]\n",
      " [ 1.44319245]\n",
      " [ 0.2755416 ]\n",
      " [-1.3495883 ]\n",
      " [ 0.3890847 ]]\n",
      "[[-0.91792827]\n",
      " [ 1.44319245]\n",
      " [ 0.2755416 ]\n",
      " [-1.3495883 ]\n",
      " [ 0.3890847 ]]\n"
     ]
    }
   ],
   "source": [
    "import numpy as np\n",
    "a = np.random.randn(5,)\n",
    "c = np.random.randn(1,5)\n",
    "b = np.array([56.0,0.0,4.4,68.0])\n",
    "print(b.T)\n",
    "print(b.transpose())\n",
    "print(c.T)\n",
    "print(c.transpose())"
   ]
  }
 ],
 "metadata": {
  "kernelspec": {
   "display_name": "Python 3.8.13 ('pytorch')",
   "language": "python",
   "name": "python3"
  },
  "language_info": {
   "codemirror_mode": {
    "name": "ipython",
    "version": 3
   },
   "file_extension": ".py",
   "mimetype": "text/x-python",
   "name": "python",
   "nbconvert_exporter": "python",
   "pygments_lexer": "ipython3",
   "version": "3.8.13"
  },
  "orig_nbformat": 4,
  "vscode": {
   "interpreter": {
    "hash": "8b3a5dcf2002995c777578b6a17ca44c254c73de0e40df451694dc83b650b489"
   }
  }
 },
 "nbformat": 4,
 "nbformat_minor": 2
}
