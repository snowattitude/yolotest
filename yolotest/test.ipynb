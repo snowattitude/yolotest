{
 "cells": [
  {
   "cell_type": "code",
   "execution_count": 1,
   "metadata": {},
   "outputs": [
    {
     "name": "stdout",
     "output_type": "stream",
     "text": [
      "[1 2 3 4]\n"
     ]
    }
   ],
   "source": [
    "import numpy as np\n",
    "\n",
    "a = np.array([1,2,3,4])\n",
    "print(a)"
   ]
  },
  {
   "cell_type": "markdown",
   "metadata": {},
   "source": [
    "想要计算两次运行的时间,以及数组的转置乘以另一个数组\n",
    "利用数组运算与运用for循环运算的时间差距"
   ]
  },
  {
   "cell_type": "markdown",
   "metadata": {},
   "source": [
    "numpy的dot的使用（一维数组计算的就是对应数字乘积的和，二维数组就是矩阵相乘）"
   ]
  },
  {
   "cell_type": "code",
   "execution_count": 6,
   "metadata": {},
   "outputs": [
    {
     "name": "stdout",
     "output_type": "stream",
     "text": [
      "vectorized version0.0\n",
      "vectorized version416.87512397766113\n"
     ]
    }
   ],
   "source": [
    "import time\n",
    "a = np.random.rand(1000000)    # 输出0—1之间长度为n的一维数组\n",
    "b = np.random.rand(1000000)\n",
    "tic = time.time()              # 记录当前时间,乘以1000才是ms级别\n",
    "c = np.dot(a,b)                # a^T*b\n",
    "toc = time.time()\n",
    "print(\"vectorized version\" + str(1000*(toc-tic)))\n",
    "#------------------------------------------------------------\n",
    "import time\n",
    "a = np.random.rand(1000000)   \n",
    "b = np.random.rand(1000000)\n",
    "tic = time.time()            \n",
    "c = 0 \n",
    "for i in range(1000000):\n",
    "    c += a[i]+b[i]\n",
    "toc = time.time()\n",
    "print(\"vectorized version\" + str(1000*(toc-tic)))"
   ]
  }
 ],
 "metadata": {
  "kernelspec": {
   "display_name": "Python 3.8.13 ('pytorch')",
   "language": "python",
   "name": "python3"
  },
  "language_info": {
   "codemirror_mode": {
    "name": "ipython",
    "version": 3
   },
   "file_extension": ".py",
   "mimetype": "text/x-python",
   "name": "python",
   "nbconvert_exporter": "python",
   "pygments_lexer": "ipython3",
   "version": "3.8.13"
  },
  "orig_nbformat": 4,
  "vscode": {
   "interpreter": {
    "hash": "8b3a5dcf2002995c777578b6a17ca44c254c73de0e40df451694dc83b650b489"
   }
  }
 },
 "nbformat": 4,
 "nbformat_minor": 2
}
